{
 "cells": [
  {
   "cell_type": "code",
   "execution_count": 2,
   "id": "cd945944-a99e-4667-bd49-ef6c6053eeeb",
   "metadata": {},
   "outputs": [
    {
     "name": "stdout",
     "output_type": "stream",
     "text": [
      "2.3.1+cu121\n"
     ]
    }
   ],
   "source": [
    "import torch\n",
    "import pandas as pd\n",
    "import numpy as np\n",
    "import matplotlib.pyplot as plt\n",
    "\n",
    "print(torch.__version__)"
   ]
  },
  {
   "cell_type": "markdown",
   "id": "bb133c97-d0f1-457a-a722-a3941b8610a7",
   "metadata": {},
   "source": [
    "## Intro to Tensors\n",
    "### Creating a Tensor\n",
    "\n",
    "Pytorch tensors are created using 'torch.Tensor()'"
   ]
  },
  {
   "cell_type": "code",
   "execution_count": 3,
   "id": "94060fed-8b3c-40ca-91c9-47cc29d62191",
   "metadata": {},
   "outputs": [
    {
     "name": "stdout",
     "output_type": "stream",
     "text": [
      "tensor(7)\n",
      "0\n",
      "7\n"
     ]
    }
   ],
   "source": [
    "# scalar\n",
    "scalar = torch.tensor(7)\n",
    "print(scalar)\n",
    "\n",
    "print(scalar.ndim) # scalar dimension\n",
    "print(scalar.item()) # get tensor back as python integer"
   ]
  },
  {
   "cell_type": "code",
   "execution_count": 4,
   "id": "d341bac1-fe3c-47f2-99c0-1a09a16db80c",
   "metadata": {},
   "outputs": [
    {
     "name": "stdout",
     "output_type": "stream",
     "text": [
      "tensor([7, 7])\n"
     ]
    },
    {
     "data": {
      "text/plain": [
       "torch.Size([2])"
      ]
     },
     "execution_count": 4,
     "metadata": {},
     "output_type": "execute_result"
    }
   ],
   "source": [
    "# Vector\n",
    "vector = torch.tensor([7,7])\n",
    "print(vector)\n",
    "\n",
    "vector.ndim\n",
    "\n",
    "vector.shape # size of vector matrix"
   ]
  },
  {
   "cell_type": "code",
   "execution_count": 5,
   "id": "b44e6346-d9ed-43ca-b598-db9eacb6b3c0",
   "metadata": {},
   "outputs": [
    {
     "name": "stdout",
     "output_type": "stream",
     "text": [
      "2\n",
      "tensor([ 9, 10])\n",
      "torch.Size([2, 2])\n"
     ]
    }
   ],
   "source": [
    "# MATRIX\n",
    "MATRIX = torch.tensor([[7,8],\n",
    "                      [9,10]])\n",
    "print(MATRIX.ndim)\n",
    "print(MATRIX[1]) # index first array, or column\n",
    "print(MATRIX.shape) # indicating a 2x2 matrix"
   ]
  },
  {
   "cell_type": "code",
   "execution_count": 6,
   "id": "c56b755e-ddd2-46f6-bb63-c8755f76edb2",
   "metadata": {},
   "outputs": [
    {
     "name": "stdout",
     "output_type": "stream",
     "text": [
      "tensor([[[1, 2, 3],\n",
      "         [3, 6, 9],\n",
      "         [2, 4, 5]]])\n",
      "3\n",
      "torch.Size([1, 3, 3])\n",
      "tensor([[1, 2, 3],\n",
      "        [3, 6, 9],\n",
      "        [2, 4, 5]])\n"
     ]
    }
   ],
   "source": [
    "# TENSOR\n",
    "TENSOR = torch.tensor([[[1,2,3],\n",
    "                       [3,6,9],\n",
    "                       [2,4,5]]])\n",
    "print(TENSOR)\n",
    "print(TENSOR.ndim)\n",
    "print(TENSOR.shape)\n",
    "print(TENSOR[0])"
   ]
  },
  {
   "cell_type": "markdown",
   "id": "abb18be3-98f4-42dd-a242-78a335fa226c",
   "metadata": {},
   "source": [
    "### Random Tensors\n",
    "\n",
    "Why random tensors? \n",
    "\n",
    "Random tensors are important because the way many neural networks learn is that they start with tensors full of random numbers and then adjust those random numbers to better represent the data.\n",
    "\n",
    "'Start with random nymbers -> look at data -> update random numbers -> look at data -> update random numbers'"
   ]
  },
  {
   "cell_type": "code",
   "execution_count": 7,
   "id": "61fa9902-ea84-4b1c-a387-a1e0e8eccbb6",
   "metadata": {},
   "outputs": [
    {
     "name": "stdout",
     "output_type": "stream",
     "text": [
      "tensor([[0.5882, 0.8090, 0.1367, 0.6002],\n",
      "        [0.6218, 0.2989, 0.1833, 0.8848],\n",
      "        [0.7669, 0.8181, 0.1800, 0.3777]])\n",
      "2\n"
     ]
    }
   ],
   "source": [
    "# Create a random tensor of size (3,4)\n",
    "random_tensor = torch.rand(3,4)\n",
    "print(random_tensor)\n",
    "print(random_tensor.ndim)"
   ]
  },
  {
   "cell_type": "code",
   "execution_count": 8,
   "id": "da0cb7fa-2f80-4778-90e5-7de83cbbf519",
   "metadata": {},
   "outputs": [
    {
     "name": "stdout",
     "output_type": "stream",
     "text": [
      "torch.Size([224, 224, 3]) 3\n"
     ]
    }
   ],
   "source": [
    "# Create a random tensor with similar shape to an image tensor\n",
    "random_image_size_tensor = torch.rand(size=(224,224,3)) # height, width, and color channels (RGB)\n",
    "print(random_image_size_tensor.shape, random_image_size_tensor.ndim)"
   ]
  },
  {
   "cell_type": "markdown",
   "id": "12c8313c-d47d-46f2-bc24-c54148ee1642",
   "metadata": {},
   "source": [
    "### Zeros and Ones"
   ]
  },
  {
   "cell_type": "code",
   "execution_count": 9,
   "id": "af41293e-a295-4a5c-aa90-c6467bb5237e",
   "metadata": {},
   "outputs": [
    {
     "name": "stdout",
     "output_type": "stream",
     "text": [
      "tensor([[0., 0., 0., 0.],\n",
      "        [0., 0., 0., 0.],\n",
      "        [0., 0., 0., 0.]])\n",
      "tensor([[1., 1., 1., 1.],\n",
      "        [1., 1., 1., 1.],\n",
      "        [1., 1., 1., 1.]])\n",
      "torch.float32\n"
     ]
    }
   ],
   "source": [
    "# Create a tensor of all zeros\n",
    "zeros = torch.zeros(size=(3,4))\n",
    "print(zeros)\n",
    "\n",
    "# Create a tensor of all ones\n",
    "ones = torch.ones(size=(3,4))\n",
    "print(ones)\n",
    "print(ones.dtype)"
   ]
  },
  {
   "cell_type": "markdown",
   "id": "43ada41e-9242-438d-831b-0215be1462d0",
   "metadata": {},
   "source": [
    "### Creating a range of tensors and tensors-like"
   ]
  },
  {
   "cell_type": "code",
   "execution_count": 10,
   "id": "d9884c52-d848-4de8-8e54-1eb94b6a4d5a",
   "metadata": {},
   "outputs": [
    {
     "name": "stdout",
     "output_type": "stream",
     "text": [
      "tensor([  0,  77, 154, 231, 308, 385, 462, 539, 616, 693, 770, 847, 924])\n",
      "tensor([0, 0, 0, 0, 0, 0, 0, 0, 0, 0, 0, 0, 0])\n"
     ]
    }
   ],
   "source": [
    "# Use torch.range()\n",
    "one_to_ten = torch.arange(start=0, end=1000, step=77)\n",
    "print(one_to_ten)\n",
    "\n",
    "# Creating tensors-like\n",
    "ten_zeros = torch.zeros_like(input=one_to_ten)\n",
    "print(ten_zeros)"
   ]
  },
  {
   "cell_type": "markdown",
   "id": "e83f074a-0863-4633-91e4-59bc0b9c9308",
   "metadata": {},
   "source": [
    "### Tensor Data Types\n",
    "\n",
    "Data types have to do with computer science precision. Which, as I am understanding is the degree of accuracey and resource usage of memory. So storing something with 32 bit accuracey vs 16 bit accuracey in memory. \n",
    "\n",
    "**Note:** tensor datatypes is one of the 3 big errors you'll run into with PyTorch & deep learning:\n",
    "1. Tensors not right Datatype\n",
    "2. Tensors not right Shape\n",
    "3. Tensors not on the right device"
   ]
  },
  {
   "cell_type": "code",
   "execution_count": 11,
   "id": "350da575-9d7b-4424-acc4-4447944fb822",
   "metadata": {},
   "outputs": [
    {
     "name": "stdout",
     "output_type": "stream",
     "text": [
      "tensor([3., 6., 9.])\n",
      "torch.float32\n",
      "torch.HalfTensor\n"
     ]
    }
   ],
   "source": [
    "# Float 32 Tensor\n",
    "float_32_tensor = torch.tensor([3.0, 6.0, 9.0], \n",
    "                              dtype=None, # what datatype is the tensor\n",
    "                              device=None, # use GPU or CPU\n",
    "                              requires_grad=False) # are we backpropagating with the gradiant?\n",
    "print(float_32_tensor)\n",
    "print(float_32_tensor.dtype)\n",
    "\n",
    "float_16_tensor = float_32_tensor.type(torch.float16)\n",
    "print(float_16_tensor.type())"
   ]
  },
  {
   "cell_type": "markdown",
   "id": "f151a0e2-ce20-4b8a-8592-a23f85cb6a33",
   "metadata": {},
   "source": [
    "### Tensor Mainpulation:\n",
    "1. Addition\n",
    "2. Subtraction\n",
    "3. Multpilication\n",
    "4. Division\n",
    "5. Matrix Multiplication"
   ]
  },
  {
   "cell_type": "code",
   "execution_count": 12,
   "id": "78b0e7d0-0a02-45c1-97ec-65ecafb7f405",
   "metadata": {},
   "outputs": [
    {
     "name": "stdout",
     "output_type": "stream",
     "text": [
      "tensor([2, 4, 6])\n",
      "tensor([1, 4, 9])\n",
      "tensor([1, 4, 9])\n",
      "tensor(14)\n",
      "tensor(14)\n"
     ]
    }
   ],
   "source": [
    "tensor = torch.tensor([1, 2, 3])\n",
    "\n",
    "# Addition\n",
    "tensor_plus = tensor + tensor\n",
    "print(tensor_plus)\n",
    "\n",
    "# Multiplication\n",
    "tensor_times = tensor * tensor\n",
    "print(tensor_times)\n",
    "\n",
    "# PyTorch Built In\n",
    "tensor_py = torch.mul(tensor, tensor)\n",
    "print(tensor_py)\n",
    "\n",
    "# Matrix Multiplication\n",
    "tensor_matmul = torch.matmul(tensor, tensor)\n",
    "print(tensor_matmul)\n",
    "\n",
    "# MatMul as a for loop\n",
    "value = 0\n",
    "for i in range(len(tensor)):\n",
    "    value += tensor[i] * tensor[i]\n",
    "print(value)"
   ]
  },
  {
   "cell_type": "code",
   "execution_count": 13,
   "id": "ba680458-b41c-4e7e-b896-b2401342e508",
   "metadata": {},
   "outputs": [
    {
     "name": "stdout",
     "output_type": "stream",
     "text": [
      "tensor([[0.5710, 0.4201, 0.5726, 0.2039],\n",
      "        [0.4611, 0.0423, 0.2395, 0.7464],\n",
      "        [0.4894, 0.1080, 0.7210, 0.2331]]) torch.Size([3, 4])\n",
      "tensor([[0.5710, 0.4611, 0.4894],\n",
      "        [0.4201, 0.0423, 0.1080],\n",
      "        [0.5726, 0.2395, 0.7210],\n",
      "        [0.2039, 0.7464, 0.2331]]) torch.Size([4, 3])\n"
     ]
    }
   ],
   "source": [
    "# The Transpose!\n",
    "rand_tensor = torch.rand(3,4)\n",
    "rand_tensor_trans = rand_tensor.mT\n",
    "print(rand_tensor, rand_tensor.shape)\n",
    "print(rand_tensor_trans, rand_tensor_trans.shape)"
   ]
  },
  {
   "cell_type": "markdown",
   "id": "17f79056-e6da-48c6-97a4-95cf336e587e",
   "metadata": {},
   "source": [
    "### Tensor Aggregation\n",
    "\n",
    "Min, max, mean, sum, etc."
   ]
  },
  {
   "cell_type": "code",
   "execution_count": 14,
   "id": "50096261-14ee-4dc7-83bd-a91df6be8bfd",
   "metadata": {},
   "outputs": [
    {
     "name": "stdout",
     "output_type": "stream",
     "text": [
      "tensor([ 0, 10, 20, 30, 40, 50, 60, 70, 80, 90]) torch.int64\n",
      "tensor(0) tensor(0)\n",
      "tensor(90) tensor(90)\n",
      "tensor(45.) tensor(45.)\n",
      "tensor(450) tensor(450)\n"
     ]
    }
   ],
   "source": [
    "# Create a tensor\n",
    "\n",
    "x = torch.arange(0, 100, 10)\n",
    "print(x, x.dtype)\n",
    "\n",
    "print(torch.min(x), x.min())\n",
    "\n",
    "print(torch.max(x), x.max())\n",
    "\n",
    "print(torch.mean(x.type(torch.float32)), x.type(torch.float32).mean())\n",
    "\n",
    "print(torch.sum(x), x.sum())"
   ]
  },
  {
   "cell_type": "markdown",
   "id": "d09a0fa6-32a4-4c26-994c-f773120ecd19",
   "metadata": {},
   "source": [
    "### Positionals"
   ]
  },
  {
   "cell_type": "code",
   "execution_count": 15,
   "id": "9b2f2dd6-7e9c-4545-9b6e-b30eeb7250d8",
   "metadata": {},
   "outputs": [
    {
     "name": "stdout",
     "output_type": "stream",
     "text": [
      "tensor([ 0, 10, 20, 30, 40, 50, 60, 70, 80, 90])\n",
      "tensor(0) tensor(9)\n"
     ]
    }
   ],
   "source": [
    "print(x)\n",
    "\n",
    "print(x.argmin(), x.argmax()) # returns index position of min and max"
   ]
  },
  {
   "cell_type": "markdown",
   "id": "d947c6ad-ca72-46e6-a4c9-5beaf8d85986",
   "metadata": {},
   "source": [
    "### Reshaping, Stacking, Squeezing, and unsqueezing tensors\n",
    "\n",
    "* Reshaping - reshapes an input tensor to a defined shape.\n",
    "* View - return a view of an input tensor of certain shape but keep the same memory as the original tensor.\n",
    "* Stacking - combine multiple tensors on top of each other (vstack) or side by side (hstack)\n",
    "* Squeeze - removes all '1' dimensions for a tensor\n",
    "* Unsqueeze - adds a '1' dimension to a target tensor\n",
    "* Premute - return a view of the inpte iwith dimensions permuted (swapped) in a certain way"
   ]
  },
  {
   "cell_type": "code",
   "execution_count": 16,
   "id": "5d4e9dce-f6b1-4a25-9a83-d4076d93cac5",
   "metadata": {},
   "outputs": [
    {
     "name": "stdout",
     "output_type": "stream",
     "text": [
      "tensor([ 1.,  2.,  3.,  4.,  5.,  6.,  7.,  8.,  9., 10.]) torch.Size([10])\n",
      "tensor([[ 1.,  2.,  3.,  4.,  5.],\n",
      "        [ 6.,  7.,  8.,  9., 10.]]) torch.Size([2, 5])\n",
      "tensor([[ 1.,  2.,  3.,  4.,  5.,  6.,  7.,  8.,  9., 10.]]) torch.Size([1, 10])\n",
      "tensor([[ 1.,  1.,  1.,  1.],\n",
      "        [ 2.,  2.,  2.,  2.],\n",
      "        [ 3.,  3.,  3.,  3.],\n",
      "        [ 4.,  4.,  4.,  4.],\n",
      "        [ 5.,  5.,  5.,  5.],\n",
      "        [ 6.,  6.,  6.,  6.],\n",
      "        [ 7.,  7.,  7.,  7.],\n",
      "        [ 8.,  8.,  8.,  8.],\n",
      "        [ 9.,  9.,  9.,  9.],\n",
      "        [10., 10., 10., 10.]])\n",
      "tensor([ 1.,  2.,  3.,  4.,  5.,  6.,  7.,  8.,  9., 10.]) torch.Size([10])\n",
      "tensor([[ 1.,  2.,  3.,  4.,  5.,  6.,  7.,  8.,  9., 10.]]) torch.Size([1, 10])\n",
      "tensor([[ 1.],\n",
      "        [ 2.],\n",
      "        [ 3.],\n",
      "        [ 4.],\n",
      "        [ 5.],\n",
      "        [ 6.],\n",
      "        [ 7.],\n",
      "        [ 8.],\n",
      "        [ 9.],\n",
      "        [10.]]) torch.Size([10, 1])\n"
     ]
    }
   ],
   "source": [
    "# Create a tensor\n",
    "a = torch.arange(1.0, 11.0)\n",
    "print(a, a.shape)\n",
    "\n",
    "# Add an extra dimension\n",
    "a_reshaped = a.reshape(2, 5) # can do it with multiples of 10 (1, 10), (10, 1), (5, 2), (2, 5)\n",
    "print(a_reshaped, a_reshaped.shape)\n",
    "\n",
    "# Change the view, this thing is useless as far as I understand\n",
    "b = a.view(1,10)\n",
    "print(b, b.shape)\n",
    "\n",
    "# Stacking\n",
    "a_stacked = torch.stack([a, a, a, a], dim=1) # can change dim between 0,1\n",
    "print(a_stacked)\n",
    "\n",
    "# Squeezing\n",
    "a_squeezed = torch.squeeze(a)\n",
    "print(a_squeezed, a_squeezed.shape)\n",
    "\n",
    "a_unsqueeze = torch.unsqueeze(a, dim=0)\n",
    "print(a_unsqueeze, a_unsqueeze.shape)\n",
    "\n",
    "# Permuting\n",
    "a_permute = torch.permute(a_unsqueeze, dims=(1,0))\n",
    "print(a_permute, a_permute.shape)"
   ]
  },
  {
   "cell_type": "markdown",
   "id": "fda44f67-3902-4b94-b40c-cf0b17938e77",
   "metadata": {},
   "source": [
    "### Indexing\n",
    "\n",
    "Very similar to Numpy, or pandas"
   ]
  },
  {
   "cell_type": "code",
   "execution_count": 29,
   "id": "0ba794d0-0070-4f7b-a515-a230cfa9a2f0",
   "metadata": {},
   "outputs": [
    {
     "name": "stdout",
     "output_type": "stream",
     "text": [
      "tensor([[[ 1,  2,  3,  4,  5],\n",
      "         [ 6,  7,  8,  9, 10]]]) torch.Size([1, 2, 5])\n",
      "tensor([[ 1,  2,  3,  4,  5],\n",
      "        [ 6,  7,  8,  9, 10]])\n",
      "tensor([1, 2, 3, 4, 5])\n",
      "tensor(9)\n",
      "tensor([[1, 2, 3, 4, 5]])\n"
     ]
    }
   ],
   "source": [
    "c = torch.arange(1, 11).reshape(1, 2, 5)\n",
    "print(c, c.shape)\n",
    "\n",
    "print(c[0]) # index first dim\n",
    "print(c[0][0]) # Index on middle bracket (dim=1)\n",
    "print(c[0][1][3]) # play around\n",
    "print(c[:, 0]) # pandas rules"
   ]
  },
  {
   "cell_type": "markdown",
   "id": "d9e9caf8-f140-45aa-a8fb-9140260cd6d3",
   "metadata": {},
   "source": [
    "### PyTorch tensors & NumPy\n",
    "\n",
    "Required by PT on install. We may need to understand how they communicate.\n",
    "\n",
    "torch.form_numpy(ndarray)\n",
    "torch.Tensor.numpy()"
   ]
  },
  {
   "cell_type": "code",
   "execution_count": 33,
   "id": "d2a93676-31ba-4712-9c74-56014728de4d",
   "metadata": {},
   "outputs": [
    {
     "name": "stdout",
     "output_type": "stream",
     "text": [
      "[1. 2. 3. 4. 5. 6. 7.]    tensor([1., 2., 3., 4., 5., 6., 7.], dtype=torch.float64)\n",
      "[2. 3. 4. 5. 6. 7. 8.]    tensor([1., 2., 3., 4., 5., 6., 7.], dtype=torch.float64)\n"
     ]
    }
   ],
   "source": [
    "import numpy as np\n",
    "\n",
    "# Numpy array to Tensor\n",
    "array = np.arange(1.0, 8.0)\n",
    "tensor = torch.from_numpy(array)\n",
    "print(array, \"  \", tensor)\n",
    "\n",
    "array = array + 1\n",
    "print(array, \"  \", tensor)"
   ]
  },
  {
   "cell_type": "code",
   "execution_count": 35,
   "id": "c87678df-7100-4453-9b80-fee594861b3b",
   "metadata": {},
   "outputs": [
    {
     "name": "stdout",
     "output_type": "stream",
     "text": [
      "tensor([1., 1., 1., 1., 1., 1., 1.])     [1. 1. 1. 1. 1. 1. 1.]\n",
      "tensor([2., 2., 2., 2., 2., 2., 2.])     [1. 1. 1. 1. 1. 1. 1.]\n"
     ]
    }
   ],
   "source": [
    "# Tensor to Numpy Array\n",
    "\n",
    "tensor = torch.ones(7)\n",
    "numpy_tensor = tensor.numpy()\n",
    "print(tensor, \"   \", numpy_tensor)\n",
    "\n",
    "tensor = tensor + 1\n",
    "print(tensor, \"   \", numpy_tensor)"
   ]
  },
  {
   "cell_type": "markdown",
   "id": "f8d8b37e-af01-4357-9c1c-77745e973da8",
   "metadata": {},
   "source": [
    "### Reproducibility\n",
    "\n",
    "In short, how a neural network learns:\n",
    "1. Start with random numbers.\n",
    "2. Perform Tensor operations.\n",
    "3. Update random numbers with better accuracy.\n",
    "4. Repeat 1-3 like 100000 times.\n",
    "\n",
    "**random seed** - essentially \"flavors\" the randomness"
   ]
  },
  {
   "cell_type": "code",
   "execution_count": 38,
   "id": "a8f55f43-7dc7-4b98-a5dd-ed761eaa4768",
   "metadata": {},
   "outputs": [
    {
     "name": "stdout",
     "output_type": "stream",
     "text": [
      "tensor([[0.6988, 0.8029, 0.3417, 0.0149],\n",
      "        [0.5169, 0.1188, 0.3119, 0.9470],\n",
      "        [0.8079, 0.7603, 0.6695, 0.7932]]) \n",
      " tensor([[0.1877, 0.9744, 0.9888, 0.1899],\n",
      "        [0.1122, 0.9408, 0.3838, 0.6853],\n",
      "        [0.4124, 0.6373, 0.9466, 0.1461]])\n",
      "tensor([[False, False, False, False],\n",
      "        [False, False, False, False],\n",
      "        [False, False, False, False]])\n"
     ]
    }
   ],
   "source": [
    "# Create two random tensors\n",
    "random_tensor_A = torch.rand(3,4)\n",
    "random_tensor_B = torch.rand(3, 4)\n",
    "\n",
    "print(random_tensor_A, \"\\n\", random_tensor_B)\n",
    "print(random_tensor_A == random_tensor_B)"
   ]
  },
  {
   "cell_type": "code",
   "execution_count": 41,
   "id": "baab36a8-c152-4f92-a39e-45a25f6a81c6",
   "metadata": {},
   "outputs": [
    {
     "name": "stdout",
     "output_type": "stream",
     "text": [
      "tensor([[0.8823, 0.9150, 0.3829, 0.9593],\n",
      "        [0.3904, 0.6009, 0.2566, 0.7936],\n",
      "        [0.9408, 0.1332, 0.9346, 0.5936]]) \n",
      " tensor([[0.8823, 0.9150, 0.3829, 0.9593],\n",
      "        [0.3904, 0.6009, 0.2566, 0.7936],\n",
      "        [0.9408, 0.1332, 0.9346, 0.5936]])\n",
      "tensor([[True, True, True, True],\n",
      "        [True, True, True, True],\n",
      "        [True, True, True, True]])\n"
     ]
    }
   ],
   "source": [
    "# random, but reproducable tensors\n",
    "RANDOM_SEED = 42\n",
    "torch.manual_seed(RANDOM_SEED)\n",
    "random_tensor_C = torch.rand(3, 4)\n",
    "\n",
    "torch.manual_seed(RANDOM_SEED)\n",
    "random_tensor_D = torch.rand(3, 4)\n",
    "\n",
    "print(random_tensor_C, \"\\n\", random_tensor_D)\n",
    "print(random_tensor_C == random_tensor_D)"
   ]
  },
  {
   "cell_type": "code",
   "execution_count": 44,
   "id": "732d2a26-a171-40c8-90a1-b683150adcc1",
   "metadata": {},
   "outputs": [
    {
     "name": "stdout",
     "output_type": "stream",
     "text": [
      "tensor([1, 2, 3]) cpu\n"
     ]
    },
    {
     "data": {
      "text/plain": [
       "tensor([1, 2, 3], device='cuda:0')"
      ]
     },
     "execution_count": 44,
     "metadata": {},
     "output_type": "execute_result"
    }
   ],
   "source": [
    "# Setup device agnostic code\n",
    "device = 'cuda' if torch.cuda.is_available() else False\n",
    "\n",
    "tensor = torch.tensor([1, 2, 3])\n",
    "print(tensor, tensor.device)\n",
    "\n",
    "# How to move tensor\n",
    "tensor_on_gpu = tensor.to(device)\n",
    "tensor_on_gpu"
   ]
  },
  {
   "cell_type": "code",
   "execution_count": null,
   "id": "fb069b4c-ac3d-43af-8064-f31130033499",
   "metadata": {},
   "outputs": [],
   "source": []
  }
 ],
 "metadata": {
  "kernelspec": {
   "display_name": "Python 3 (ipykernel)",
   "language": "python",
   "name": "python3"
  },
  "language_info": {
   "codemirror_mode": {
    "name": "ipython",
    "version": 3
   },
   "file_extension": ".py",
   "mimetype": "text/x-python",
   "name": "python",
   "nbconvert_exporter": "python",
   "pygments_lexer": "ipython3",
   "version": "3.11.9"
  }
 },
 "nbformat": 4,
 "nbformat_minor": 5
}
